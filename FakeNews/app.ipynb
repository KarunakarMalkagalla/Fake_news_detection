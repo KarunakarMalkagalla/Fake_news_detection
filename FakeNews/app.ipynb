{
 "cells": [
  {
   "cell_type": "code",
   "execution_count": 1,
   "id": "1681f23d-eff8-498c-b8ed-7a091afff563",
   "metadata": {},
   "outputs": [
    {
     "name": "stderr",
     "output_type": "stream",
     "text": [
      "2025-03-21 12:42:53.714 \n",
      "  \u001b[33m\u001b[1mWarning:\u001b[0m to view this Streamlit app on a browser, run it with the following\n",
      "  command:\n",
      "\n",
      "    streamlit run C:\\Users\\karun\\anaconda3\\Lib\\site-packages\\ipykernel_launcher.py [ARGUMENTS]\n",
      "2025-03-21 12:42:53.718 Session state does not function when running a script without `streamlit run`\n"
     ]
    }
   ],
   "source": [
    "import streamlit as st\n",
    "import pickle\n",
    "import numpy as np\n",
    "\n",
    "# Load the trained model\n",
    "with open(\"model_GBC.pkl\", \"rb\") as f:\n",
    "    model = pickle.load(f)\n",
    "\n",
    "# Streamlit UI\n",
    "st.title(\"Machine Learning Model Deployment\")\n",
    "st.write(\"Enter feature values to get a prediction.\")\n",
    "\n",
    "# Input fields for user\n",
    "input_data = st.text_input(\"Enter input data (comma-separated):\")\n",
    "\n",
    "if st.button(\"Predict\"):\n",
    "    try:\n",
    "        # Convert input to numpy array\n",
    "        data = np.array([float(i) for i in input_data.split(\",\")]).reshape(1, -1)\n",
    "        prediction = model.predict(data)\n",
    "        st.success(f\"Prediction: {prediction[0]}\")\n",
    "    except:\n",
    "        st.error(\"Invalid input. Please enter numerical values separated by commas.\")"
   ]
  }
 ],
 "metadata": {
  "kernelspec": {
   "display_name": "Python [conda env:base] *",
   "language": "python",
   "name": "conda-base-py"
  },
  "language_info": {
   "codemirror_mode": {
    "name": "ipython",
    "version": 3
   },
   "file_extension": ".py",
   "mimetype": "text/x-python",
   "name": "python",
   "nbconvert_exporter": "python",
   "pygments_lexer": "ipython3",
   "version": "3.12.7"
  }
 },
 "nbformat": 4,
 "nbformat_minor": 5
}
